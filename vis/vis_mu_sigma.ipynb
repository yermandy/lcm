{
 "metadata": {
  "language_info": {
   "codemirror_mode": {
    "name": "ipython",
    "version": 3
   },
   "file_extension": ".py",
   "mimetype": "text/x-python",
   "name": "python",
   "nbconvert_exporter": "python",
   "pygments_lexer": "ipython3",
   "version": "3.7.3-final"
  },
  "orig_nbformat": 2,
  "kernelspec": {
   "name": "python_defaultSpec_1600672044882",
   "display_name": "Python 3.7.3 64-bit"
  }
 },
 "nbformat": 4,
 "nbformat_minor": 2,
 "cells": [
  {
   "cell_type": "code",
   "execution_count": 1,
   "metadata": {},
   "outputs": [],
   "source": [
    "import numpy as np\n",
    "import matplotlib.pyplot as plt\n",
    "from ipywidgets import interact, interactive, fixed, interact_manual\n",
    "import ipywidgets as widgets\n",
    "\n",
    "\n",
    "ages = np.arange(1, 91)\n",
    "\n",
    "poly_deg_1 = np.array([ages ** d for d in range(2)])\n",
    "poly_deg_2 = np.array([ages ** d for d in range(3)])"
   ]
  },
  {
   "cell_type": "code",
   "execution_count": 9,
   "metadata": {},
   "outputs": [],
   "source": [
    "def vis_mu(a=0.0, b=1.0, c=0.0, a1=0.0, b1=1.0, c1=0.0):\n",
    "    u = np.array([[c, b, a], [c1, b1, a1]])\n",
    "\n",
    "    mu = u @ poly_deg_2\n",
    "\n",
    "    plt.plot(ages, mu[0], label='female')\n",
    "    plt.plot(ages, mu[1], label='male')\n",
    "    plt.plot(ages, ages, ls='--', c='black')\n",
    "    plt.legend()"
   ]
  },
  {
   "cell_type": "code",
   "execution_count": 15,
   "metadata": {},
   "outputs": [],
   "source": [
    "def vis_sigma(a=1.0, b=0.0, a1=1.0, b1=0.0):\n",
    "    u = np.array([[b, a], [b1, a1]])\n",
    "\n",
    "    sigma = u @ poly_deg_1\n",
    "\n",
    "    plt.plot(ages, sigma[0], label='female')\n",
    "    plt.plot(ages, sigma[1], label='male')\n",
    "    plt.legend()"
   ]
  },
  {
   "cell_type": "code",
   "execution_count": 11,
   "metadata": {},
   "outputs": [
    {
     "output_type": "display_data",
     "data": {
      "text/plain": "interactive(children=(FloatSlider(value=0.0, description='a', max=0.01, min=-0.01, readout_format='.4f', step=…",
      "application/vnd.jupyter.widget-view+json": {
       "version_major": 2,
       "version_minor": 0,
       "model_id": "5c7a35062e1e41229cf69849ca698bd4"
      }
     },
     "metadata": {}
    }
   ],
   "source": [
    "a = widgets.FloatSlider(value=0, min=-0.01, max=0.01, step=0.0001, readout_format='.4f')\n",
    "b = widgets.FloatSlider(value=1, min=-5, max=5, step=0.001, readout_format='.3f')\n",
    "c = widgets.FloatSlider(value=0, min=-10, max=10, step=0.01, readout_format='.2f')\n",
    "\n",
    "a1 = widgets.FloatSlider(value=0, min=-0.01, max=0.01, step=0.0001, readout_format='.4f')\n",
    "b1 = widgets.FloatSlider(value=1, min=-5, max=5, step=0.001, readout_format='.3f')\n",
    "c1 = widgets.FloatSlider(value=0, min=-10, max=10, step=0.01, readout_format='.2f')\n",
    "\n",
    "interact(vis_mu, a=a, b=b, c=c, a1=a1, b1=b1, c1=c1);\n"
   ]
  },
  {
   "cell_type": "code",
   "execution_count": 20,
   "metadata": {},
   "outputs": [
    {
     "output_type": "display_data",
     "data": {
      "text/plain": "interactive(children=(FloatSlider(value=0.0, description='a', max=5.0, readout_format='.3f', step=0.001), Floa…",
      "application/vnd.jupyter.widget-view+json": {
       "version_major": 2,
       "version_minor": 0,
       "model_id": "4da11334f1a14621be22a7b169317ee0"
      }
     },
     "metadata": {}
    }
   ],
   "source": [
    "a = widgets.FloatSlider(value=0, min=0, max=5, step=0.001, readout_format='.3f')\n",
    "b = widgets.FloatSlider(value=1, min=0, max=5, step=0.01, readout_format='.2f')\n",
    "\n",
    "a1 = widgets.FloatSlider(value=0, min=0, max=5, step=0.001, readout_format='.3f')\n",
    "b1 = widgets.FloatSlider(value=1, min=0, max=5, step=0.01, readout_format='.2f')\n",
    "\n",
    "interact(vis_sigma, a=a, b=b, a1=a1, b1=b1);\n"
   ]
  },
  {
   "cell_type": "code",
   "execution_count": null,
   "metadata": {},
   "outputs": [],
   "source": []
  },
  {
   "cell_type": "code",
   "execution_count": null,
   "metadata": {},
   "outputs": [],
   "source": []
  }
 ]
}