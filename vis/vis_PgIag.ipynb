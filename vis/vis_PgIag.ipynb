{
 "metadata": {
  "language_info": {
   "codemirror_mode": {
    "name": "ipython",
    "version": 3
   },
   "file_extension": ".py",
   "mimetype": "text/x-python",
   "name": "python",
   "nbconvert_exporter": "python",
   "pygments_lexer": "ipython3",
   "version": "3.7.3-final"
  },
  "orig_nbformat": 2,
  "kernelspec": {
   "name": "python_defaultSpec_1600608032797",
   "display_name": "Python 3.7.3 64-bit"
  }
 },
 "nbformat": 4,
 "nbformat_minor": 2,
 "cells": [
  {
   "cell_type": "code",
   "execution_count": 1,
   "metadata": {},
   "outputs": [],
   "source": [
    "import numpy as np\n",
    "import matplotlib.pyplot as plt\n",
    "from ipywidgets import interact, interactive, fixed, interact_manual\n",
    "import ipywidgets as widgets\n",
    "\n",
    "\n",
    "ages = np.arange(1, 91)\n",
    "\n",
    "poly_deg_2 = np.array([ages ** d for d in range(3)])\n",
    "\n",
    "sigmoid = lambda x: 1 / (1 + np.exp(-x))"
   ]
  },
  {
   "cell_type": "code",
   "execution_count": 10,
   "metadata": {},
   "outputs": [],
   "source": [
    "def plot_PgIad(a=0.0017, b=-0.155, c=-1.1):\n",
    "    g_poly = np.array([c, b, a])\n",
    "    z = np.array([g_poly, -g_poly])\n",
    "\n",
    "    gamma = z @ poly_deg_2\n",
    "    PgIag = sigmoid(-1 * gamma)\n",
    "\n",
    "    plt.plot(ages, PgIag[0], label='female')\n",
    "    plt.plot(ages, PgIag[1], label='male')"
   ]
  },
  {
   "cell_type": "code",
   "execution_count": 38,
   "metadata": {},
   "outputs": [
    {
     "output_type": "display_data",
     "data": {
      "text/plain": "interactive(children=(FloatSlider(value=0.0017, description='a', max=0.01, min=-0.01, readout_format='.4f', st…",
      "application/vnd.jupyter.widget-view+json": {
       "version_major": 2,
       "version_minor": 0,
       "model_id": "7d9da8184093483699c7b0ca4ce654db"
      }
     },
     "metadata": {}
    }
   ],
   "source": [
    "a = widgets.FloatSlider(value=0.0017, min=-0.01, max=0.01, step=0.0001, readout_format='.4f')\n",
    "b = widgets.FloatSlider(value=-0.155, min=-0.5, max=0.5, step=0.001, readout_format='.3f')\n",
    "c = widgets.FloatSlider(value=-1.1, min=-10, max=5, step=0.01, readout_format='.2f')\n",
    "\n",
    "interact(plot_PgIad, a=a, b=b, c=c, step=1e3);\n"
   ]
  },
  {
   "cell_type": "code",
   "execution_count": null,
   "metadata": {},
   "outputs": [],
   "source": []
  }
 ]
}